{
  "nbformat": 4,
  "nbformat_minor": 0,
  "metadata": {
    "colab": {
      "provenance": []
    },
    "kernelspec": {
      "name": "python3",
      "display_name": "Python 3"
    },
    "language_info": {
      "name": "python"
    }
  },
  "cells": [
    {
      "cell_type": "code",
      "source": [
        "!pip install selenium"
      ],
      "metadata": {
        "colab": {
          "base_uri": "https://localhost:8080/"
        },
        "id": "Dk_L62OoKGNH",
        "outputId": "d6ec3c52-73e2-4295-c28a-c3d0c6af04d9"
      },
      "execution_count": 2,
      "outputs": [
        {
          "output_type": "stream",
          "name": "stdout",
          "text": [
            "Looking in indexes: https://pypi.org/simple, https://us-python.pkg.dev/colab-wheels/public/simple/\n",
            "Collecting selenium\n",
            "  Downloading selenium-4.8.2-py3-none-any.whl (6.9 MB)\n",
            "\u001b[2K     \u001b[90m━━━━━━━━━━━━━━━━━━━━━━━━━━━━━━━━━━━━━━━━\u001b[0m \u001b[32m6.9/6.9 MB\u001b[0m \u001b[31m45.5 MB/s\u001b[0m eta \u001b[36m0:00:00\u001b[0m\n",
            "\u001b[?25hRequirement already satisfied: urllib3[socks]~=1.26 in /usr/local/lib/python3.9/dist-packages (from selenium) (1.26.15)\n",
            "Requirement already satisfied: certifi>=2021.10.8 in /usr/local/lib/python3.9/dist-packages (from selenium) (2022.12.7)\n",
            "Collecting trio-websocket~=0.9\n",
            "  Downloading trio_websocket-0.10.0-py3-none-any.whl (17 kB)\n",
            "Collecting trio~=0.17\n",
            "  Downloading trio-0.22.0-py3-none-any.whl (384 kB)\n",
            "\u001b[2K     \u001b[90m━━━━━━━━━━━━━━━━━━━━━━━━━━━━━━━━━━━━━━\u001b[0m \u001b[32m384.9/384.9 KB\u001b[0m \u001b[31m34.0 MB/s\u001b[0m eta \u001b[36m0:00:00\u001b[0m\n",
            "\u001b[?25hRequirement already satisfied: attrs>=19.2.0 in /usr/local/lib/python3.9/dist-packages (from trio~=0.17->selenium) (22.2.0)\n",
            "Collecting outcome\n",
            "  Downloading outcome-1.2.0-py2.py3-none-any.whl (9.7 kB)\n",
            "Collecting async-generator>=1.9\n",
            "  Downloading async_generator-1.10-py3-none-any.whl (18 kB)\n",
            "Requirement already satisfied: idna in /usr/local/lib/python3.9/dist-packages (from trio~=0.17->selenium) (3.4)\n",
            "Collecting exceptiongroup>=1.0.0rc9\n",
            "  Downloading exceptiongroup-1.1.1-py3-none-any.whl (14 kB)\n",
            "Collecting sniffio\n",
            "  Downloading sniffio-1.3.0-py3-none-any.whl (10 kB)\n",
            "Requirement already satisfied: sortedcontainers in /usr/local/lib/python3.9/dist-packages (from trio~=0.17->selenium) (2.4.0)\n",
            "Collecting wsproto>=0.14\n",
            "  Downloading wsproto-1.2.0-py3-none-any.whl (24 kB)\n",
            "Requirement already satisfied: PySocks!=1.5.7,<2.0,>=1.5.6 in /usr/local/lib/python3.9/dist-packages (from urllib3[socks]~=1.26->selenium) (1.7.1)\n",
            "Collecting h11<1,>=0.9.0\n",
            "  Downloading h11-0.14.0-py3-none-any.whl (58 kB)\n",
            "\u001b[2K     \u001b[90m━━━━━━━━━━━━━━━━━━━━━━━━━━━━━━━━━━━━━━━━\u001b[0m \u001b[32m58.3/58.3 KB\u001b[0m \u001b[31m6.9 MB/s\u001b[0m eta \u001b[36m0:00:00\u001b[0m\n",
            "\u001b[?25hInstalling collected packages: sniffio, outcome, h11, exceptiongroup, async-generator, wsproto, trio, trio-websocket, selenium\n",
            "Successfully installed async-generator-1.10 exceptiongroup-1.1.1 h11-0.14.0 outcome-1.2.0 selenium-4.8.2 sniffio-1.3.0 trio-0.22.0 trio-websocket-0.10.0 wsproto-1.2.0\n"
          ]
        }
      ]
    },
    {
      "cell_type": "code",
      "execution_count": 3,
      "metadata": {
        "id": "lBrff0azJTZ5"
      },
      "outputs": [],
      "source": [
        "from selenium.webdriver.common.keys import Keys\n",
        "from selenium.webdriver.support.ui import WebDriverWait\n",
        "from selenium.webdriver.support import expected_conditions as EC\n",
        "from selenium.common.exceptions import TimeoutException\n",
        "from selenium.common.exceptions import NoSuchElementException\n",
        "from selenium.webdriver.common.by import By\n",
        "from selenium.webdriver.support.ui import Select\n",
        "import time"
      ]
    },
    {
      "cell_type": "code",
      "source": [
        "import pandas as pd\n",
        "from bs4 import BeautifulSoup"
      ],
      "metadata": {
        "id": "2sCb9g-AJ-l1"
      },
      "execution_count": 4,
      "outputs": []
    },
    {
      "cell_type": "code",
      "source": [
        "from selenium import webdriver\n",
        "\n",
        "browser = webdriver.Chrome('C:/chromedriver.exe')\n",
        "\n",
        "browser.get('https://finance.naver.com/news/mainnews.naver?date=2022-08-23')"
      ],
      "metadata": {
        "id": "IBRk5YfTs0G7"
      },
      "execution_count": null,
      "outputs": []
    },
    {
      "cell_type": "code",
      "source": [
        "url_list = []\n",
        "title_list = []\n",
        "text_list = []"
      ],
      "metadata": {
        "id": "dVQ5JFmmsoOK"
      },
      "execution_count": null,
      "outputs": []
    },
    {
      "cell_type": "code",
      "source": [
        "i = 1\n",
        "flag = 0\n",
        "\n",
        "while True:\n",
        "    try:   \n",
        "        path = \"//*[@id='contentarea_left']/div[2]/ul/li[\"+str(i)+\"]/dl/dd[1]/a\"\n",
        "        url = browser.find_element(By.XPATH,path).get_attribute('href')\n",
        "        url_list.append(url)\n",
        "        \n",
        "        title = browser.find_element(By.XPATH,path).text\n",
        "        title_list.append(title)\n",
        "        i+=1\n",
        "        print('돌아감')\n",
        "    \n",
        "    except :\n",
        "        path = \"//*[@id='contentarea_left']/div[2]/ul/li[\"+str(i)+\"]/dl/dt/a\"\n",
        "        url = browser.find_element(By.XPATH,path).get_attribute('href')\n",
        "        url_list.append(url)\n",
        "        \n",
        "        title = browser.find_element(By.XPATH,path).text\n",
        "        title_list.append(title)\n",
        "        i+=1\n",
        "        print('돌아감')"
      ],
      "metadata": {
        "id": "WUkjKvQns1Cd"
      },
      "execution_count": null,
      "outputs": []
    },
    {
      "cell_type": "code",
      "source": [
        "url_list"
      ],
      "metadata": {
        "id": "1SWEG7_2s65T"
      },
      "execution_count": null,
      "outputs": []
    },
    {
      "cell_type": "code",
      "source": [
        "title_list"
      ],
      "metadata": {
        "id": "bTknZ4e3s-WF"
      },
      "execution_count": null,
      "outputs": []
    },
    {
      "cell_type": "code",
      "source": [
        "//*[@id=\"content\"]/text()[2]\n",
        "//*[@id=\"content\"]/text()[9]"
      ],
      "metadata": {
        "id": "5UpYsAAms_8J"
      },
      "execution_count": null,
      "outputs": []
    },
    {
      "cell_type": "code",
      "source": [
        "for url in url_list:\n",
        "    wd = webdriver.Chrome('C:/chromedriver.exe')\n",
        "    wd.get(url)\n",
        "    req = wd.page_source\n",
        "    soup = BeautifulSoup(req, 'html.parser')\n",
        "\n",
        "    ul =soup.find('div',{\"class\":\"articleCont\"}).text\n",
        "    cleantext = BeautifulSoup(ul, \"lxml\").text\n",
        "    text_list.append(cleantext)"
      ],
      "metadata": {
        "id": "h9bqsw4htCp7"
      },
      "execution_count": null,
      "outputs": []
    },
    {
      "cell_type": "code",
      "source": [
        "len(text_list)"
      ],
      "metadata": {
        "id": "9SQfblPftFU1"
      },
      "execution_count": null,
      "outputs": []
    },
    {
      "cell_type": "code",
      "source": [
        "import pandas as pd\n",
        "raw = {'url':url_list,\n",
        "       'title':title_list,\n",
        "       'text':text_list}\n",
        "\n",
        "data=pd.DataFrame(raw)\n",
        "data.head()"
      ],
      "metadata": {
        "id": "A6LVZYmYtHek"
      },
      "execution_count": null,
      "outputs": []
    },
    {
      "cell_type": "code",
      "source": [
        "data.to_csv('2022-08-23.csv',encoding='utf8',index=False)"
      ],
      "metadata": {
        "id": "M7RryTidtJpY"
      },
      "execution_count": null,
      "outputs": []
    }
  ]
}